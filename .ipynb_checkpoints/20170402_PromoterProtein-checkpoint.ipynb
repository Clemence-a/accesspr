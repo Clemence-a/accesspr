{
 "cells": [
  {
   "cell_type": "code",
   "execution_count": 2,
   "metadata": {
    "collapsed": false
   },
   "outputs": [
    {
     "name": "stdout",
     "output_type": "stream",
     "text": [
      "/Users/s1259407/Dropbox/PhD/phd_peter_swain/data/plate_reader_data/PythonScripts/accesspr\n"
     ]
    }
   ],
   "source": [
    "cd /Users/s1259407/Dropbox/PhD/phd_peter_swain/data/plate_reader_data/PythonScripts/accesspr "
   ]
  },
  {
   "cell_type": "code",
   "execution_count": 3,
   "metadata": {
    "collapsed": false
   },
   "outputs": [],
   "source": [
    "import numpy as np\n",
    "import seaborn as sns\n",
    "import pandas as pd\n",
    "import matplotlib.pyplot as plt\n",
    "import matplotlib.patches as pch\n",
    "import accesspr as ac\n",
    "import scipy.interpolate as scint\n",
    "import prPlottingFunctions as ppf\n",
    "%matplotlib inline\n"
   ]
  },
  {
   "cell_type": "markdown",
   "metadata": {},
   "source": [
    "A lot of nice color sequences."
   ]
  },
  {
   "cell_type": "code",
   "execution_count": 4,
   "metadata": {
    "collapsed": false
   },
   "outputs": [],
   "source": [
    "blueColors=['#f7fcf0',\n",
    "'#e0f3db',\n",
    "'#ccebc5',\n",
    "'#a8ddb5',\n",
    "'#7bccc4',\n",
    "'#4eb3d3',\n",
    "'#2b8cbe',\n",
    "'#08589e']\n",
    "\n",
    "magentaColors=['#fff7f3',\n",
    "'#fde0dd',\n",
    "'#fcc5c0',\n",
    "'#fa9fb5',\n",
    "'#f768a1',\n",
    "'#dd3497',\n",
    "'#ae017e',\n",
    "'#7a0177']\n",
    "\n",
    "redColors=['#ffffcc',\n",
    "'#ffeda0',\n",
    "'#fed976',\n",
    "'#feb24c',\n",
    "'#fd8d3c',\n",
    "'#fc4e2a',\n",
    "'#e31a1c',\n",
    "'#b10026'\n",
    "]\n",
    "purpleColors=['#fcfbfd',\n",
    "'#efedf5',\n",
    "'#dadaeb',\n",
    "'#bcbddc',\n",
    "'#9e9ac8',\n",
    "'#807dba',\n",
    "'#6a51a3',\n",
    "'#4a1486']\n",
    "\n",
    "greyColors=['#ffffff',\n",
    "'#f0f0f0',\n",
    "'#d9d9d9',\n",
    "'#bdbdbd',\n",
    "'#969696',\n",
    "'#737373',\n",
    "'#525252',\n",
    "'#252525'\n",
    "]\n",
    "\n",
    "cyanColors=['#ffffe5',\n",
    "'#f7fcb9',\n",
    "'#d9f0a3',\n",
    "'#addd8e',\n",
    "'#78c679',\n",
    "'#41ab5d',\n",
    "'#238443',\n",
    "'#005a32']\n",
    "\n",
    "greenColors=['#ffffe5',\n",
    "'#f7fcb9',\n",
    "'#d9f0a3',\n",
    "'#addd8e',\n",
    "'#78c679',\n",
    "'#41ab5d',\n",
    "'#238443',\n",
    "'#005a32']\n",
    "\n",
    "#plt.imshow(array([magentaColors, cyanColors, purpleColors, greyColors,greenColors] ))"
   ]
  },
  {
   "cell_type": "code",
   "execution_count": 5,
   "metadata": {
    "collapsed": false
   },
   "outputs": [
    {
     "name": "stdout",
     "output_type": "stream",
     "text": [
      "trying to open  p201703092.pkl\n",
      "trying to open  p20170311.pkl\n",
      "trying to open  p201704022.pkl\n",
      "\n",
      " Adding GFP80 as a consensus. Please correct autofluorescence using this channel.\n",
      "aligning experiment  p20170311.pkl\n",
      "\n",
      " Adding GFP as a consensus. Please correct autofluorescence using this channel.\n",
      "Impossible to find gr. Consider running getstats.\n",
      "experiment p201703092.pkl lacking machine attribute. Attempting retrieval from file...\n"
     ]
    },
    {
     "data": {
      "text/html": [
       "<div>\n",
       "<table border=\"1\" class=\"dataframe\">\n",
       "  <thead>\n",
       "    <tr style=\"text-align: right;\">\n",
       "      <th></th>\n",
       "      <th>FLperod</th>\n",
       "      <th>gr</th>\n",
       "      <th>GFP</th>\n",
       "      <th>GFP80</th>\n",
       "      <th>c-GFP80perod</th>\n",
       "      <th>GFP70</th>\n",
       "    </tr>\n",
       "  </thead>\n",
       "  <tbody>\n",
       "    <tr>\n",
       "      <th>p20170311.pkl</th>\n",
       "      <td>NaN</td>\n",
       "      <td>1</td>\n",
       "      <td>1.0</td>\n",
       "      <td>1.0</td>\n",
       "      <td>1.0</td>\n",
       "      <td>NaN</td>\n",
       "    </tr>\n",
       "    <tr>\n",
       "      <th>p201704022.pkl</th>\n",
       "      <td>NaN</td>\n",
       "      <td>1</td>\n",
       "      <td>NaN</td>\n",
       "      <td>1.0</td>\n",
       "      <td>NaN</td>\n",
       "      <td>1.0</td>\n",
       "    </tr>\n",
       "    <tr>\n",
       "      <th>p201703092.pkl</th>\n",
       "      <td>NaN</td>\n",
       "      <td>1</td>\n",
       "      <td>1.0</td>\n",
       "      <td>1.0</td>\n",
       "      <td>1.0</td>\n",
       "      <td>NaN</td>\n",
       "    </tr>\n",
       "  </tbody>\n",
       "</table>\n",
       "</div>"
      ],
      "text/plain": [
       "               FLperod gr  GFP  GFP80  c-GFP80perod  GFP70\n",
       "p20170311.pkl      NaN  1  1.0    1.0           1.0    NaN\n",
       "p201704022.pkl     NaN  1  NaN    1.0           NaN    1.0\n",
       "p201703092.pkl     NaN  1  1.0    1.0           1.0    NaN"
      ]
     },
     "execution_count": 5,
     "metadata": {},
     "output_type": "execute_result"
    }
   ],
   "source": [
    "pickleFileFolder='/Users/s1259407/Dropbox/PhD/phd_peter_swain/data/plate_reader_data/allPicklesPromoterProtein'\n",
    "xpr=ac.accesspr(pickleFileFolder, FL='GFP80', FLperod='c-GFP80perod')\n",
    "xpr.statContents"
   ]
  },
  {
   "cell_type": "code",
   "execution_count": 20,
   "metadata": {
    "collapsed": false
   },
   "outputs": [
    {
     "name": "stdout",
     "output_type": "stream",
     "text": [
      "attempting strains containing string  REF\n",
      "experiment p201704022.pkl :\n",
      "Using REF as the reference\n",
      "OD is already corrected\n",
      "GFP80 is already corrected for the media\n",
      "AutoFL is already corrected for the media\n",
      "Reference strain is already processed\n",
      "Correcting autofluorescence\n"
     ]
    },
    {
     "name": "stderr",
     "output_type": "stream",
     "text": [
      "/Users/s1259407/Dropbox/PhD/phd_peter_swain/data/plate_reader_data/PythonScripts/accesspr/gaussianprocess.py:211: RuntimeWarning: covariance is not positive-semidefinite.\n",
      "  return np.transpose(np.random.multivariate_normal(self.mnp, self.covp, size))\n"
     ]
    }
   ],
   "source": [
    "xpr.correctauto(experiments=['p201704022.pkl'], f=['GFP80', 'AutoFL'], refstrain=['REF'])\n"
   ]
  },
  {
   "cell_type": "code",
   "execution_count": 12,
   "metadata": {
    "collapsed": false
   },
   "outputs": [
    {
     "ename": "NameError",
     "evalue": "name 'robustCorrect' is not defined",
     "output_type": "error",
     "traceback": [
      "\u001b[0;31m---------------------------------------------------------------------------\u001b[0m",
      "\u001b[0;31mNameError\u001b[0m                                 Traceback (most recent call last)",
      "\u001b[0;32m<ipython-input-12-1ef7541f4da1>\u001b[0m in \u001b[0;36m<module>\u001b[0;34m()\u001b[0m\n\u001b[0;32m----> 1\u001b[0;31m \u001b[0mrobustCorrect\u001b[0m\u001b[0;34m(\u001b[0m\u001b[0mexperiments\u001b[0m\u001b[0;34m=\u001b[0m\u001b[0;34m[\u001b[0m\u001b[0;34m'p201704022.pkl'\u001b[0m\u001b[0;34m]\u001b[0m\u001b[0;34m,\u001b[0m \u001b[0mf\u001b[0m\u001b[0;34m=\u001b[0m\u001b[0;34m[\u001b[0m\u001b[0;34m'GFP80'\u001b[0m\u001b[0;34m,\u001b[0m \u001b[0;34m'AutoFL'\u001b[0m\u001b[0;34m]\u001b[0m\u001b[0;34m,\u001b[0m \u001b[0mrefstrain\u001b[0m\u001b[0;34m=\u001b[0m\u001b[0;34m[\u001b[0m\u001b[0;34m'WT'\u001b[0m\u001b[0;34m]\u001b[0m\u001b[0;34m)\u001b[0m\u001b[0;34m\u001b[0m\u001b[0m\n\u001b[0m\u001b[1;32m      2\u001b[0m \u001b[0;34m\u001b[0m\u001b[0m\n\u001b[1;32m      3\u001b[0m \u001b[0mxpr\u001b[0m\u001b[0;34m.\u001b[0m\u001b[0mstatDerivative\u001b[0m\u001b[0;34m(\u001b[0m\u001b[0mdtype\u001b[0m\u001b[0;34m=\u001b[0m\u001b[0;34m'c-GFP80perod'\u001b[0m\u001b[0;34m)\u001b[0m\u001b[0;34m\u001b[0m\u001b[0m\n\u001b[1;32m      4\u001b[0m \u001b[0mxpr\u001b[0m\u001b[0;34m.\u001b[0m\u001b[0mstatDerivative\u001b[0m\u001b[0;34m(\u001b[0m\u001b[0mdtype\u001b[0m\u001b[0;34m=\u001b[0m\u001b[0;34m'gr'\u001b[0m\u001b[0;34m)\u001b[0m\u001b[0;34m\u001b[0m\u001b[0m\n\u001b[1;32m      5\u001b[0m \u001b[0mxpr\u001b[0m\u001b[0;34m.\u001b[0m\u001b[0mcontainsstat\u001b[0m\u001b[0;34m(\u001b[0m\u001b[0;34m'd/dtc-GFP80perod'\u001b[0m\u001b[0;34m)\u001b[0m\u001b[0;34m\u001b[0m\u001b[0m\n",
      "\u001b[0;31mNameError\u001b[0m: name 'robustCorrect' is not defined"
     ]
    }
   ],
   "source": [
    "\n",
    "xpr.statDerivative(dtype='c-GFP80perod')\n",
    "xpr.statDerivative(dtype='gr')\n",
    "xpr.containsstat('d/dtc-GFP80perod')\n",
    "xpr.containsstat('d/dtgr')\n",
    "xpr.statContents\n",
    "ppf.plotRawStatPerMediaRobust(xpr.data['p201703092.pkl'])\n",
    "#xpr.plotReplicateMean('Glu 2%', '409.Hxt4')"
   ]
  },
  {
   "cell_type": "code",
   "execution_count": null,
   "metadata": {
    "collapsed": false
   },
   "outputs": [],
   "source": [
    "blueColors=['#f7fcf0',\n",
    "'#e0f3db',\n",
    "'#ccebc5',\n",
    "'#a8ddb5',\n",
    "'#7bccc4',\n",
    "'#4eb3d3',\n",
    "'#2b8cbe',\n",
    "'#08589e']\n",
    "\n",
    "meds= ['Glu 0.2%',\n",
    " 'Glu 0.4%',\n",
    " 'Glu 0.6%',\n",
    " 'Glu 0.8%',\n",
    " 'Glu 1%',\n",
    " 'Glu 1.5%',\n",
    " 'Glu 2%']\n",
    "\n",
    "cols=ppf.colorDict(meds,blueColors)\n",
    "ppf.plotRawStatPerStrainRobust(xpr.data['p201703092.pkl'], mediaColors=cols, dtype='OD')\n",
    "ppf.plotRawStatPerStrainRobust(xpr.data['p201703092.pkl'],dtype='c-GFP80perod', mediaColors=cols)\n",
    "#xpr.plotReplicateMean('Glu 2%', '409.Hxt4')"
   ]
  },
  {
   "cell_type": "code",
   "execution_count": null,
   "metadata": {
    "collapsed": false
   },
   "outputs": [],
   "source": [
    "ppf.experimentOverview(xpr.data['p20170311.pkl'],  dtype='GFP80', addFL={'GFP80':[0,70]})\n",
    "ppf.experimentOverview(xpr.data['p201703092.pkl'],  dtype='GFP80', addFL={'GFP80':[0,70]})\n",
    "#ppf.experimentOverview(xpr.data['p201703092.pkl'])"
   ]
  },
  {
   "cell_type": "code",
   "execution_count": null,
   "metadata": {
    "collapsed": false
   },
   "outputs": [],
   "source": [
    "for md in xpr.allMedia:\n",
    "    plt.figure();\n",
    "    xpr.plotRawReplicates(md, 'pHXT4', dtype='OD', exptColors={'p20170311.pkl': greenColors[-1], 'p201703092.pkl': magentaColors[-1]})\n",
    "#[xpr.plotReplicateMean(md, '409.Hxt4', dtype='ODmn') for md in xpr.allMedia]"
   ]
  },
  {
   "cell_type": "code",
   "execution_count": null,
   "metadata": {
    "collapsed": false
   },
   "outputs": [],
   "source": [
    "df=xpr.extractAllInfo()\n",
    "#sns.lmplot('FinalOD', 'FLperodAUC', data=df,hue='strain')"
   ]
  },
  {
   "cell_type": "code",
   "execution_count": null,
   "metadata": {
    "collapsed": true
   },
   "outputs": [],
   "source": []
  },
  {
   "cell_type": "code",
   "execution_count": null,
   "metadata": {
    "collapsed": true
   },
   "outputs": [],
   "source": []
  },
  {
   "cell_type": "code",
   "execution_count": null,
   "metadata": {
    "collapsed": true
   },
   "outputs": [],
   "source": []
  },
  {
   "cell_type": "code",
   "execution_count": null,
   "metadata": {
    "collapsed": true
   },
   "outputs": [],
   "source": []
  },
  {
   "cell_type": "code",
   "execution_count": null,
   "metadata": {
    "collapsed": true
   },
   "outputs": [],
   "source": []
  },
  {
   "cell_type": "code",
   "execution_count": null,
   "metadata": {
    "collapsed": true
   },
   "outputs": [],
   "source": []
  },
  {
   "cell_type": "code",
   "execution_count": null,
   "metadata": {
    "collapsed": true
   },
   "outputs": [],
   "source": []
  },
  {
   "cell_type": "code",
   "execution_count": null,
   "metadata": {
    "collapsed": true
   },
   "outputs": [],
   "source": []
  },
  {
   "cell_type": "code",
   "execution_count": null,
   "metadata": {
    "collapsed": true
   },
   "outputs": [],
   "source": []
  }
 ],
 "metadata": {
  "anaconda-cloud": {},
  "kernelspec": {
   "display_name": "Python [default]",
   "language": "python",
   "name": "python3"
  }
 },
 "nbformat": 4,
 "nbformat_minor": 1
}
